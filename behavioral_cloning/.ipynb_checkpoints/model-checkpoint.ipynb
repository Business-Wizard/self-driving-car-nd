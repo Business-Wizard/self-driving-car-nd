{
 "cells": [
  {
   "cell_type": "code",
   "execution_count": 19,
   "metadata": {
    "collapsed": false
   },
   "outputs": [],
   "source": [
    "import numpy as np\n",
    "import pandas as pd\n",
    "import matplotlib.pyplot as plt\n",
    "import cv2\n",
    "from keras.models import Sequential\n",
    "from keras.layers import Dense, Dropout, Flatten, Lambda, ELU\n",
    "from keras.layers.convolutional import Convolution2D\n",
    "from keras.preprocessing.image import ImageDataGenerator\n",
    "from keras import backend as K\n",
    "%matplotlib inline"
   ]
  },
  {
   "cell_type": "code",
   "execution_count": 20,
   "metadata": {
    "collapsed": true
   },
   "outputs": [],
   "source": [
    "base_dir = \"./data/\""
   ]
  },
  {
   "cell_type": "code",
   "execution_count": 21,
   "metadata": {
    "collapsed": false
   },
   "outputs": [],
   "source": [
    "def select_sample(data, n=1):\n",
    "    np.random.shuffle(data)\n",
    "    negatives = []\n",
    "    positives = []\n",
    "    straights = []\n",
    "    for d in data:\n",
    "        if d[1] > 0:\n",
    "            positives.append(d)\n",
    "        elif d[1] < 0:\n",
    "            negatives.append(d)\n",
    "        else:\n",
    "            straights.append(d)\n",
    "    return np.array(negatives[:n] + positives[:n] + straights[:n])\n",
    "\n",
    "def get_model():\n",
    "    ch, row, col = 3, 160, 320  # camera format\n",
    "\n",
    "    model = Sequential()\n",
    "    model.add(Lambda(lambda x: x/255.0,\n",
    "            input_shape=(row, col, ch),\n",
    "            output_shape=(row, col, ch)))\n",
    "    model.add(Convolution2D(16, 8, 8, subsample=(4, 4), border_mode=\"same\"))\n",
    "    model.add(ELU())\n",
    "    model.add(Convolution2D(32, 5, 5, subsample=(2, 2), border_mode=\"same\"))\n",
    "    model.add(ELU())\n",
    "    model.add(Convolution2D(64, 5, 5, subsample=(2, 2), border_mode=\"same\"))\n",
    "    model.add(Flatten())\n",
    "    model.add(Dropout(.2))\n",
    "    model.add(ELU())\n",
    "    model.add(Dense(512))\n",
    "    model.add(Dropout(.5))\n",
    "    model.add(ELU())\n",
    "    model.add(Dense(1))\n",
    "\n",
    "    model.compile(optimizer=\"adam\", loss=\"mse\", metrics=['mse'])\n",
    "    return model\n",
    "    \n",
    "def data_gen(data):\n",
    "    while 1:\n",
    "        np.random.shuffle(data)\n",
    "        for d in data:\n",
    "            img = plt.imread(base_dir + d[0])\n",
    "            #res = cv2.resize(img,None,fx=1/2, fy=1/2, interpolation = cv2.INTER_AREA)\n",
    "            res = np.expand_dims(img, axis=0)\n",
    "            yield res, np.array([d[1]])\n",
    "            \n",
    "def normalize(X):\n",
    "    ##keras code\n",
    "    channel_index = 3\n",
    "    row_index = 1\n",
    "    col_index = 2\n",
    "    mean = np.mean(X, axis=(0, row_index, col_index))\n",
    "    broadcast_shape = [1, 1, 1]\n",
    "    broadcast_shape[channel_index - 1] = X.shape[channel_index]\n",
    "    mean = np.reshape(mean, broadcast_shape)\n",
    "    print(\"mean: {}\".format(mean))\n",
    "    X -= mean\n",
    "    \n",
    "    std = np.std(X, axis=(0, row_index, col_index))\n",
    "    broadcast_shape = [1, 1, 1]\n",
    "    broadcast_shape[channel_index - 1] = X.shape[channel_index]\n",
    "    std = np.reshape(std, broadcast_shape)\n",
    "    print(\"std: {}\".format(std))\n",
    "    X /= (std + K.epsilon())\n",
    "        \n",
    "def predict_gen(data):\n",
    "    while 1:\n",
    "        for d in data:\n",
    "            img = plt.imread(base_dir + d[0])\n",
    "            #res = cv2.resize(img,None,fx=1/2, fy=1/2, interpolation = cv2.INTER_AREA)\n",
    "            res = np.expand_dims(img, axis=0)\n",
    "            yield res\n",
    "            \n",
    "def read_data(array):\n",
    "    array_size = array.shape[0]\n",
    "    X_train = np.zeros((array_size, 160, 320, 3))\n",
    "    y_train = np.zeros(array_size)\n",
    "    print(X_train.shape)\n",
    "    for i, x in enumerate(array):\n",
    "        img = plt.imread(base_dir + x[0])\n",
    "        X_train[i,:,:,:] = img\n",
    "        y_train[i] = x[1]\n",
    "    return X_train, y_train "
   ]
  },
  {
   "cell_type": "code",
   "execution_count": 22,
   "metadata": {
    "collapsed": false
   },
   "outputs": [
    {
     "name": "stdout",
     "output_type": "stream",
     "text": [
      "(3, 160, 320, 3)\n"
     ]
    }
   ],
   "source": [
    "data = pd.read_csv(\"./data/driving_log.csv\")[['center', 'steering']].values\n",
    "sample = select_sample(data)\n",
    "X_train, y_train = read_data(sample)"
   ]
  },
  {
   "cell_type": "code",
   "execution_count": 23,
   "metadata": {
    "collapsed": false
   },
   "outputs": [
    {
     "name": "stdout",
     "output_type": "stream",
     "text": [
      "mean: [[[ 138.0413151   142.7535612   135.02099609]]]\n",
      "std: [[[ 50.36909109  48.67878844  60.72792301]]]\n"
     ]
    }
   ],
   "source": [
    "normalize(X_train)"
   ]
  },
  {
   "cell_type": "code",
   "execution_count": 5,
   "metadata": {
    "collapsed": false
   },
   "outputs": [],
   "source": [
    "datagen = ImageDataGenerator(\n",
    "    featurewise_center=True,\n",
    "    featurewise_std_normalization=True)\n",
    "datagen.fit(X_train)"
   ]
  },
  {
   "cell_type": "code",
   "execution_count": 11,
   "metadata": {
    "collapsed": true
   },
   "outputs": [],
   "source": [
    "??ImageDataGenerator"
   ]
  },
  {
   "cell_type": "code",
   "execution_count": 7,
   "metadata": {
    "collapsed": false
   },
   "outputs": [
    {
     "name": "stdout",
     "output_type": "stream",
     "text": [
      "Epoch 1/50\n",
      "3/3 [==============================] - 0s - loss: 0.0413 - mean_squared_error: 0.0413 - val_loss: 0.0317 - val_mean_squared_error: 0.0317\n",
      "Epoch 2/50\n",
      "3/3 [==============================] - 0s - loss: 0.0323 - mean_squared_error: 0.0323 - val_loss: 0.0174 - val_mean_squared_error: 0.0174\n",
      "Epoch 3/50\n",
      "3/3 [==============================] - 0s - loss: 0.0152 - mean_squared_error: 0.0152 - val_loss: 0.0220 - val_mean_squared_error: 0.0220\n",
      "Epoch 4/50\n",
      "3/3 [==============================] - 0s - loss: 0.0247 - mean_squared_error: 0.0247 - val_loss: 0.0272 - val_mean_squared_error: 0.0272\n",
      "Epoch 5/50\n",
      "3/3 [==============================] - 0s - loss: 0.0306 - mean_squared_error: 0.0306 - val_loss: 0.0095 - val_mean_squared_error: 0.0095\n",
      "Epoch 6/50\n",
      "3/3 [==============================] - 0s - loss: 0.0086 - mean_squared_error: 0.0086 - val_loss: 0.0024 - val_mean_squared_error: 0.0024\n",
      "Epoch 7/50\n",
      "3/3 [==============================] - 0s - loss: 0.0024 - mean_squared_error: 0.0024 - val_loss: 0.0051 - val_mean_squared_error: 0.0051\n",
      "Epoch 8/50\n",
      "3/3 [==============================] - 0s - loss: 0.0079 - mean_squared_error: 0.0079 - val_loss: 0.0057 - val_mean_squared_error: 0.0057\n",
      "Epoch 9/50\n",
      "3/3 [==============================] - 0s - loss: 0.0029 - mean_squared_error: 0.0029 - val_loss: 0.0084 - val_mean_squared_error: 0.0084\n",
      "Epoch 10/50\n",
      "3/3 [==============================] - 0s - loss: 0.0059 - mean_squared_error: 0.0059 - val_loss: 0.0023 - val_mean_squared_error: 0.0023\n",
      "Epoch 11/50\n",
      "3/3 [==============================] - 0s - loss: 0.0011 - mean_squared_error: 0.0011 - val_loss: 0.0039 - val_mean_squared_error: 0.0039\n",
      "Epoch 12/50\n",
      "3/3 [==============================] - 0s - loss: 0.0055 - mean_squared_error: 0.0055 - val_loss: 0.0011 - val_mean_squared_error: 0.0011\n",
      "Epoch 13/50\n",
      "3/3 [==============================] - 0s - loss: 0.0014 - mean_squared_error: 0.0014 - val_loss: 0.0035 - val_mean_squared_error: 0.0035\n",
      "Epoch 14/50\n",
      "3/3 [==============================] - 0s - loss: 0.0048 - mean_squared_error: 0.0048 - val_loss: 0.0023 - val_mean_squared_error: 0.0023\n",
      "Epoch 15/50\n",
      "3/3 [==============================] - 0s - loss: 9.7820e-04 - mean_squared_error: 9.7820e-04 - val_loss: 0.0026 - val_mean_squared_error: 0.0026\n",
      "Epoch 16/50\n",
      "3/3 [==============================] - 0s - loss: 3.7612e-04 - mean_squared_error: 3.7612e-04 - val_loss: 0.0031 - val_mean_squared_error: 0.0031\n",
      "Epoch 17/50\n",
      "3/3 [==============================] - 0s - loss: 0.0018 - mean_squared_error: 0.0018 - val_loss: 0.0012 - val_mean_squared_error: 0.0012\n",
      "Epoch 18/50\n",
      "3/3 [==============================] - 0s - loss: 0.0023 - mean_squared_error: 0.0023 - val_loss: 2.5765e-04 - val_mean_squared_error: 2.5765e-04\n",
      "Epoch 19/50\n",
      "3/3 [==============================] - 0s - loss: 3.9508e-04 - mean_squared_error: 3.9508e-04 - val_loss: 0.0017 - val_mean_squared_error: 0.0017\n",
      "Epoch 20/50\n",
      "3/3 [==============================] - 0s - loss: 4.3391e-04 - mean_squared_error: 4.3391e-04 - val_loss: 0.0023 - val_mean_squared_error: 0.0023\n",
      "Epoch 21/50\n",
      "3/3 [==============================] - 0s - loss: 0.0017 - mean_squared_error: 0.0017 - val_loss: 0.0023 - val_mean_squared_error: 0.0023\n",
      "Epoch 22/50\n",
      "3/3 [==============================] - 0s - loss: 0.0010 - mean_squared_error: 0.0010 - val_loss: 0.0022 - val_mean_squared_error: 0.0022\n",
      "Epoch 23/50\n",
      "3/3 [==============================] - 0s - loss: 0.0020 - mean_squared_error: 0.0020 - val_loss: 0.0027 - val_mean_squared_error: 0.0027\n",
      "Epoch 24/50\n",
      "3/3 [==============================] - 0s - loss: 0.0158 - mean_squared_error: 0.0158 - val_loss: 0.0016 - val_mean_squared_error: 0.0016\n",
      "Epoch 25/50\n",
      "3/3 [==============================] - 0s - loss: 0.0021 - mean_squared_error: 0.0021 - val_loss: 9.3282e-04 - val_mean_squared_error: 9.3282e-04\n",
      "Epoch 26/50\n",
      "3/3 [==============================] - 0s - loss: 0.0017 - mean_squared_error: 0.0017 - val_loss: 0.0075 - val_mean_squared_error: 0.0075\n",
      "Epoch 27/50\n",
      "3/3 [==============================] - 0s - loss: 0.0083 - mean_squared_error: 0.0083 - val_loss: 0.0074 - val_mean_squared_error: 0.0074\n",
      "Epoch 28/50\n",
      "3/3 [==============================] - 0s - loss: 0.0203 - mean_squared_error: 0.0203 - val_loss: 0.0089 - val_mean_squared_error: 0.0089\n",
      "Epoch 29/50\n",
      "3/3 [==============================] - 0s - loss: 0.0124 - mean_squared_error: 0.0124 - val_loss: 0.0050 - val_mean_squared_error: 0.0050\n",
      "Epoch 30/50\n",
      "3/3 [==============================] - 0s - loss: 0.0103 - mean_squared_error: 0.0103 - val_loss: 0.0025 - val_mean_squared_error: 0.0025\n",
      "Epoch 31/50\n",
      "3/3 [==============================] - 0s - loss: 0.0076 - mean_squared_error: 0.0076 - val_loss: 0.0062 - val_mean_squared_error: 0.0062\n",
      "Epoch 32/50\n",
      "3/3 [==============================] - 0s - loss: 0.0107 - mean_squared_error: 0.0107 - val_loss: 0.0030 - val_mean_squared_error: 0.0030\n",
      "Epoch 33/50\n",
      "3/3 [==============================] - 0s - loss: 0.0030 - mean_squared_error: 0.0030 - val_loss: 0.0040 - val_mean_squared_error: 0.0040\n",
      "Epoch 34/50\n",
      "3/3 [==============================] - 0s - loss: 0.0047 - mean_squared_error: 0.0047 - val_loss: 0.0081 - val_mean_squared_error: 0.0081\n",
      "Epoch 35/50\n",
      "3/3 [==============================] - 0s - loss: 0.0097 - mean_squared_error: 0.0097 - val_loss: 0.0041 - val_mean_squared_error: 0.0041\n",
      "Epoch 36/50\n",
      "3/3 [==============================] - 0s - loss: 0.0037 - mean_squared_error: 0.0037 - val_loss: 0.0024 - val_mean_squared_error: 0.0024\n",
      "Epoch 37/50\n",
      "3/3 [==============================] - 0s - loss: 0.0044 - mean_squared_error: 0.0044 - val_loss: 0.0051 - val_mean_squared_error: 0.0051\n",
      "Epoch 38/50\n",
      "3/3 [==============================] - 0s - loss: 0.0057 - mean_squared_error: 0.0057 - val_loss: 2.7580e-04 - val_mean_squared_error: 2.7580e-04\n",
      "Epoch 39/50\n",
      "3/3 [==============================] - 0s - loss: 2.9903e-04 - mean_squared_error: 2.9903e-04 - val_loss: 0.0012 - val_mean_squared_error: 0.0012\n",
      "Epoch 40/50\n",
      "3/3 [==============================] - 0s - loss: 0.0011 - mean_squared_error: 0.0011 - val_loss: 0.0043 - val_mean_squared_error: 0.0043\n",
      "Epoch 41/50\n",
      "3/3 [==============================] - 0s - loss: 0.0037 - mean_squared_error: 0.0037 - val_loss: 3.7885e-04 - val_mean_squared_error: 3.7885e-04\n",
      "Epoch 42/50\n",
      "3/3 [==============================] - 0s - loss: 0.0063 - mean_squared_error: 0.0063 - val_loss: 0.0066 - val_mean_squared_error: 0.0066\n",
      "Epoch 43/50\n",
      "3/3 [==============================] - 0s - loss: 0.0074 - mean_squared_error: 0.0074 - val_loss: 0.0044 - val_mean_squared_error: 0.0044\n",
      "Epoch 44/50\n",
      "3/3 [==============================] - 0s - loss: 0.0032 - mean_squared_error: 0.0032 - val_loss: 9.0914e-04 - val_mean_squared_error: 9.0914e-04\n",
      "Epoch 45/50\n",
      "3/3 [==============================] - 0s - loss: 9.7981e-04 - mean_squared_error: 9.7981e-04 - val_loss: 0.0021 - val_mean_squared_error: 0.0021\n",
      "Epoch 46/50\n",
      "3/3 [==============================] - 0s - loss: 0.0018 - mean_squared_error: 0.0018 - val_loss: 0.0041 - val_mean_squared_error: 0.0041\n",
      "Epoch 47/50\n",
      "3/3 [==============================] - 0s - loss: 0.0040 - mean_squared_error: 0.0040 - val_loss: 0.0014 - val_mean_squared_error: 0.0014\n",
      "Epoch 48/50\n",
      "3/3 [==============================] - 0s - loss: 0.0040 - mean_squared_error: 0.0040 - val_loss: 4.6954e-04 - val_mean_squared_error: 4.6954e-04\n",
      "Epoch 49/50\n",
      "3/3 [==============================] - 0s - loss: 5.7532e-04 - mean_squared_error: 5.7532e-04 - val_loss: 0.0029 - val_mean_squared_error: 0.0029\n",
      "Epoch 50/50\n",
      "3/3 [==============================] - 0s - loss: 0.0052 - mean_squared_error: 0.0052 - val_loss: 0.0012 - val_mean_squared_error: 0.0012\n"
     ]
    },
    {
     "data": {
      "text/plain": [
       "<keras.callbacks.History at 0x121f57ac8>"
      ]
     },
     "execution_count": 7,
     "metadata": {},
     "output_type": "execute_result"
    }
   ],
   "source": [
    "training_data = sample\n",
    "epochs = 50\n",
    "validation_data = sample\n",
    "\n",
    "\n",
    "model = get_model()\n",
    "model.fit_generator(datagen.flow(X_train, y_train, batch_size=3), samples_per_epoch=training_data.shape[0],\n",
    "                    nb_epoch=epochs, validation_data=datagen.flow(X_train, y_train, batch_size=32),\n",
    "                    nb_val_samples=validation_data.shape[0])"
   ]
  },
  {
   "cell_type": "code",
   "execution_count": 8,
   "metadata": {
    "collapsed": false
   },
   "outputs": [
    {
     "data": {
      "text/plain": [
       "array([[-0.00713443],\n",
       "       [ 0.3561503 ],\n",
       "       [ 0.02554228]], dtype=float32)"
      ]
     },
     "execution_count": 8,
     "metadata": {},
     "output_type": "execute_result"
    }
   ],
   "source": [
    "model.predict_generator(datagen.flow(X_train, y_train, batch_size=3, shuffle=False), training_data.shape[0])"
   ]
  },
  {
   "cell_type": "code",
   "execution_count": 9,
   "metadata": {
    "collapsed": false
   },
   "outputs": [
    {
     "data": {
      "text/plain": [
       "array([['IMG/center_2016_12_01_13_46_25_837.jpg', -0.05975719],\n",
       "       ['IMG/center_2016_12_01_13_33_45_938.jpg', 0.3488158],\n",
       "       ['IMG/center_2016_12_01_13_41_24_395.jpg', 0.0]], dtype=object)"
      ]
     },
     "execution_count": 9,
     "metadata": {},
     "output_type": "execute_result"
    }
   ],
   "source": [
    "training_data"
   ]
  },
  {
   "cell_type": "code",
   "execution_count": null,
   "metadata": {
    "collapsed": true
   },
   "outputs": [],
   "source": []
  }
 ],
 "metadata": {
  "anaconda-cloud": {},
  "kernelspec": {
   "display_name": "Python [conda env:carnd]",
   "language": "python",
   "name": "conda-env-carnd-py"
  },
  "language_info": {
   "codemirror_mode": {
    "name": "ipython",
    "version": 3
   },
   "file_extension": ".py",
   "mimetype": "text/x-python",
   "name": "python",
   "nbconvert_exporter": "python",
   "pygments_lexer": "ipython3",
   "version": "3.5.2"
  }
 },
 "nbformat": 4,
 "nbformat_minor": 1
}
