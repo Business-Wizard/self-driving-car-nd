{
 "cells": [
  {
   "cell_type": "code",
   "execution_count": 17,
   "metadata": {
    "collapsed": false
   },
   "outputs": [],
   "source": [
    "import numpy as np\n",
    "import pandas as pd\n",
    "import matplotlib.pyplot as plt\n",
    "import cv2\n",
    "from keras.models import Sequential\n",
    "from keras.layers import Dense, Dropout, Flatten, Lambda, ELU\n",
    "from keras.layers.convolutional import Convolution2D\n",
    "from keras.preprocessing.image import ImageDataGenerator\n",
    "%matplotlib inline"
   ]
  },
  {
   "cell_type": "code",
   "execution_count": 3,
   "metadata": {
    "collapsed": true
   },
   "outputs": [],
   "source": [
    "base_dir = \"./data/\""
   ]
  },
  {
   "cell_type": "code",
   "execution_count": 13,
   "metadata": {
    "collapsed": false
   },
   "outputs": [],
   "source": [
    "def select_sample(data, n=1):\n",
    "    np.random.shuffle(data)\n",
    "    negatives = []\n",
    "    positives = []\n",
    "    straights = []\n",
    "    for d in data:\n",
    "        if d[1] > 0:\n",
    "            positives.append(d)\n",
    "        elif d[1] < 0:\n",
    "            negatives.append(d)\n",
    "        else:\n",
    "            straights.append(d)\n",
    "    return np.array(negatives[:n] + positives[:n] + straights[:n])\n",
    "\n",
    "def get_model():\n",
    "    ch, row, col = 3, 160, 320  # camera format\n",
    "\n",
    "    model = Sequential()\n",
    "    model.add(Lambda(lambda x: x/255.0,\n",
    "            input_shape=(row, col, ch),\n",
    "            output_shape=(row, col, ch)))\n",
    "    model.add(Convolution2D(16, 8, 8, subsample=(4, 4), border_mode=\"same\"))\n",
    "    model.add(ELU())\n",
    "    model.add(Convolution2D(32, 5, 5, subsample=(2, 2), border_mode=\"same\"))\n",
    "    model.add(ELU())\n",
    "    model.add(Convolution2D(64, 5, 5, subsample=(2, 2), border_mode=\"same\"))\n",
    "    model.add(Flatten())\n",
    "    model.add(Dropout(.2))\n",
    "    model.add(ELU())\n",
    "    model.add(Dense(512))\n",
    "    model.add(Dropout(.5))\n",
    "    model.add(ELU())\n",
    "    model.add(Dense(1))\n",
    "\n",
    "    model.compile(optimizer=\"adam\", loss=\"mse\", metrics=['mse'])\n",
    "    return model\n",
    "    \n",
    "def data_gen(data):\n",
    "    while 1:\n",
    "        np.random.shuffle(data)\n",
    "        for d in data:\n",
    "            img = plt.imread(base_dir + d[0])\n",
    "            #res = cv2.resize(img,None,fx=1/2, fy=1/2, interpolation = cv2.INTER_AREA)\n",
    "            res = np.expand_dims(img, axis=0)\n",
    "            yield res, np.array([d[1]])\n",
    "        \n",
    "def predict_gen(data):\n",
    "    while 1:\n",
    "        for d in data:\n",
    "            img = plt.imread(base_dir + d[0])\n",
    "            #res = cv2.resize(img,None,fx=1/2, fy=1/2, interpolation = cv2.INTER_AREA)\n",
    "            res = np.expand_dims(img, axis=0)\n",
    "            yield res\n",
    "            \n",
    "def read_data(array):\n",
    "    array_size = array.shape[0]\n",
    "    X_train = np.zeros((array_size, 160, 320, 3))\n",
    "    y_train = np.zeros(array_size)\n",
    "    print(X_train.shape)\n",
    "    for i, x in enumerate(array):\n",
    "        img = plt.imread(base_dir + x[0])\n",
    "        X_train[i,:,:,:] = img\n",
    "        y_train[i] = x[1]\n",
    "    return X_train, y_train "
   ]
  },
  {
   "cell_type": "code",
   "execution_count": 14,
   "metadata": {
    "collapsed": false
   },
   "outputs": [
    {
     "name": "stdout",
     "output_type": "stream",
     "text": [
      "(3, 160, 320, 3)\n"
     ]
    }
   ],
   "source": [
    "data = pd.read_csv(\"./data/driving_log.csv\")[['center', 'steering']].values\n",
    "sample = select_sample(data)\n",
    "X_train, y_train = read_data(sample)"
   ]
  },
  {
   "cell_type": "code",
   "execution_count": 18,
   "metadata": {
    "collapsed": false
   },
   "outputs": [],
   "source": [
    "datagen = ImageDataGenerator(\n",
    "    featurewise_center=True,\n",
    "    featurewise_std_normalization=True)\n",
    "datagen.fit(X_train)"
   ]
  },
  {
   "cell_type": "code",
   "execution_count": 37,
   "metadata": {
    "collapsed": false
   },
   "outputs": [
    {
     "name": "stdout",
     "output_type": "stream",
     "text": [
      "Epoch 1/50\n",
      "3/3 [==============================] - 0s - loss: 8.9856e-04 - mean_squared_error: 8.9856e-04 - val_loss: 3.1102e-04 - val_mean_squared_error: 3.1102e-04\n",
      "Epoch 2/50\n",
      "3/3 [==============================] - 0s - loss: 3.0717e-04 - mean_squared_error: 3.0717e-04 - val_loss: 0.0351 - val_mean_squared_error: 0.0351\n",
      "Epoch 3/50\n",
      "3/3 [==============================] - 0s - loss: 0.0368 - mean_squared_error: 0.0368 - val_loss: 0.0096 - val_mean_squared_error: 0.0096\n",
      "Epoch 4/50\n",
      "3/3 [==============================] - 0s - loss: 0.0098 - mean_squared_error: 0.0098 - val_loss: 1.1370e-04 - val_mean_squared_error: 1.1370e-04\n",
      "Epoch 5/50\n",
      "3/3 [==============================] - 0s - loss: 1.1792e-04 - mean_squared_error: 1.1792e-04 - val_loss: 0.0134 - val_mean_squared_error: 0.0134\n",
      "Epoch 6/50\n",
      "3/3 [==============================] - 0s - loss: 0.0137 - mean_squared_error: 0.0137 - val_loss: 0.0504 - val_mean_squared_error: 0.0504\n",
      "Epoch 7/50\n",
      "3/3 [==============================] - 0s - loss: 0.0506 - mean_squared_error: 0.0506 - val_loss: 0.0035 - val_mean_squared_error: 0.0035\n",
      "Epoch 8/50\n",
      "3/3 [==============================] - 0s - loss: 0.0036 - mean_squared_error: 0.0036 - val_loss: 0.0151 - val_mean_squared_error: 0.0151\n",
      "Epoch 9/50\n",
      "3/3 [==============================] - 0s - loss: 0.0167 - mean_squared_error: 0.0167 - val_loss: 6.7944e-04 - val_mean_squared_error: 6.7944e-04\n",
      "Epoch 10/50\n",
      "3/3 [==============================] - 0s - loss: 5.4997e-04 - mean_squared_error: 5.4997e-04 - val_loss: 0.0049 - val_mean_squared_error: 0.0049\n",
      "Epoch 11/50\n",
      "3/3 [==============================] - 0s - loss: 0.0072 - mean_squared_error: 0.0072 - val_loss: 0.0077 - val_mean_squared_error: 0.0077\n",
      "Epoch 12/50\n",
      "3/3 [==============================] - 0s - loss: 0.0064 - mean_squared_error: 0.0064 - val_loss: 0.0015 - val_mean_squared_error: 0.0015\n",
      "Epoch 13/50\n",
      "3/3 [==============================] - 0s - loss: 0.0020 - mean_squared_error: 0.0020 - val_loss: 0.0037 - val_mean_squared_error: 0.0037\n",
      "Epoch 14/50\n",
      "3/3 [==============================] - 0s - loss: 0.0040 - mean_squared_error: 0.0040 - val_loss: 0.0080 - val_mean_squared_error: 0.0080\n",
      "Epoch 15/50\n",
      "3/3 [==============================] - 0s - loss: 0.0069 - mean_squared_error: 0.0069 - val_loss: 0.0011 - val_mean_squared_error: 0.0011\n",
      "Epoch 16/50\n",
      "3/3 [==============================] - 0s - loss: 0.0014 - mean_squared_error: 0.0014 - val_loss: 0.0012 - val_mean_squared_error: 0.0012\n",
      "Epoch 17/50\n",
      "3/3 [==============================] - 0s - loss: 0.0013 - mean_squared_error: 0.0013 - val_loss: 0.0037 - val_mean_squared_error: 0.0037\n",
      "Epoch 18/50\n",
      "3/3 [==============================] - 0s - loss: 0.0035 - mean_squared_error: 0.0035 - val_loss: 0.0031 - val_mean_squared_error: 0.0031\n",
      "Epoch 19/50\n",
      "3/3 [==============================] - 0s - loss: 0.0040 - mean_squared_error: 0.0040 - val_loss: 7.2798e-04 - val_mean_squared_error: 7.2798e-04\n",
      "Epoch 20/50\n",
      "3/3 [==============================] - 0s - loss: 7.0027e-04 - mean_squared_error: 7.0027e-04 - val_loss: 2.0558e-04 - val_mean_squared_error: 2.0558e-04\n",
      "Epoch 21/50\n",
      "3/3 [==============================] - 0s - loss: 3.6232e-04 - mean_squared_error: 3.6232e-04 - val_loss: 0.0016 - val_mean_squared_error: 0.0016\n",
      "Epoch 22/50\n",
      "3/3 [==============================] - 0s - loss: 0.0015 - mean_squared_error: 0.0015 - val_loss: 0.0024 - val_mean_squared_error: 0.0024\n",
      "Epoch 23/50\n",
      "3/3 [==============================] - 0s - loss: 0.0027 - mean_squared_error: 0.0027 - val_loss: 0.0011 - val_mean_squared_error: 0.0011\n",
      "Epoch 24/50\n",
      "3/3 [==============================] - 0s - loss: 0.0017 - mean_squared_error: 0.0017 - val_loss: 6.7752e-05 - val_mean_squared_error: 6.7752e-05\n",
      "Epoch 25/50\n",
      "3/3 [==============================] - 0s - loss: 1.8141e-04 - mean_squared_error: 1.8141e-04 - val_loss: 6.3676e-04 - val_mean_squared_error: 6.3676e-04\n",
      "Epoch 26/50\n",
      "3/3 [==============================] - 0s - loss: 8.1183e-04 - mean_squared_error: 8.1183e-04 - val_loss: 0.0015 - val_mean_squared_error: 0.0015\n",
      "Epoch 27/50\n",
      "3/3 [==============================] - 0s - loss: 0.0016 - mean_squared_error: 0.0016 - val_loss: 0.0015 - val_mean_squared_error: 0.0015\n",
      "Epoch 28/50\n",
      "3/3 [==============================] - 0s - loss: 0.0018 - mean_squared_error: 0.0018 - val_loss: 7.3682e-04 - val_mean_squared_error: 7.3682e-04\n",
      "Epoch 29/50\n",
      "3/3 [==============================] - 0s - loss: 5.8170e-04 - mean_squared_error: 5.8170e-04 - val_loss: 2.0460e-04 - val_mean_squared_error: 2.0460e-04\n",
      "Epoch 30/50\n",
      "3/3 [==============================] - 0s - loss: 2.5271e-04 - mean_squared_error: 2.5271e-04 - val_loss: 7.3858e-06 - val_mean_squared_error: 7.3858e-06\n",
      "Epoch 31/50\n",
      "3/3 [==============================] - 0s - loss: 1.7853e-05 - mean_squared_error: 1.7853e-05 - val_loss: 5.8774e-05 - val_mean_squared_error: 5.8774e-05\n",
      "Epoch 32/50\n",
      "3/3 [==============================] - 0s - loss: 1.1375e-04 - mean_squared_error: 1.1375e-04 - val_loss: 1.8421e-04 - val_mean_squared_error: 1.8421e-04\n",
      "Epoch 33/50\n",
      "3/3 [==============================] - 0s - loss: 1.9232e-04 - mean_squared_error: 1.9232e-04 - val_loss: 2.3984e-04 - val_mean_squared_error: 2.3984e-04\n",
      "Epoch 34/50\n",
      "3/3 [==============================] - 0s - loss: 3.0749e-04 - mean_squared_error: 3.0749e-04 - val_loss: 1.8282e-04 - val_mean_squared_error: 1.8282e-04\n",
      "Epoch 35/50\n",
      "3/3 [==============================] - 0s - loss: 2.0722e-04 - mean_squared_error: 2.0722e-04 - val_loss: 6.8252e-05 - val_mean_squared_error: 6.8252e-05\n",
      "Epoch 36/50\n",
      "3/3 [==============================] - 0s - loss: 1.1290e-04 - mean_squared_error: 1.1290e-04 - val_loss: 6.3637e-06 - val_mean_squared_error: 6.3637e-06\n",
      "Epoch 37/50\n",
      "3/3 [==============================] - 0s - loss: 2.8291e-04 - mean_squared_error: 2.8291e-04 - val_loss: 9.2343e-06 - val_mean_squared_error: 9.2343e-06\n",
      "Epoch 38/50\n",
      "3/3 [==============================] - 0s - loss: 8.8630e-05 - mean_squared_error: 8.8630e-05 - val_loss: 6.5751e-05 - val_mean_squared_error: 6.5751e-05\n",
      "Epoch 39/50\n",
      "3/3 [==============================] - 0s - loss: 2.6467e-04 - mean_squared_error: 2.6467e-04 - val_loss: 8.2001e-05 - val_mean_squared_error: 8.2001e-05\n",
      "Epoch 40/50\n",
      "3/3 [==============================] - 0s - loss: 5.0902e-05 - mean_squared_error: 5.0902e-05 - val_loss: 6.3380e-05 - val_mean_squared_error: 6.3380e-05\n",
      "Epoch 41/50\n",
      "3/3 [==============================] - 0s - loss: 1.7258e-04 - mean_squared_error: 1.7258e-04 - val_loss: 7.8652e-06 - val_mean_squared_error: 7.8652e-06\n",
      "Epoch 42/50\n",
      "3/3 [==============================] - 0s - loss: 9.0467e-05 - mean_squared_error: 9.0467e-05 - val_loss: 2.4316e-05 - val_mean_squared_error: 2.4316e-05\n",
      "Epoch 43/50\n",
      "3/3 [==============================] - 0s - loss: 8.4026e-05 - mean_squared_error: 8.4026e-05 - val_loss: 1.0168e-04 - val_mean_squared_error: 1.0168e-04\n",
      "Epoch 44/50\n",
      "3/3 [==============================] - 0s - loss: 1.3144e-05 - mean_squared_error: 1.3144e-05 - val_loss: 1.9203e-04 - val_mean_squared_error: 1.9203e-04\n",
      "Epoch 45/50\n",
      "3/3 [==============================] - 0s - loss: 4.4298e-04 - mean_squared_error: 4.4298e-04 - val_loss: 1.1295e-04 - val_mean_squared_error: 1.1295e-04\n",
      "Epoch 46/50\n",
      "3/3 [==============================] - 0s - loss: 3.8056e-04 - mean_squared_error: 3.8056e-04 - val_loss: 4.3412e-06 - val_mean_squared_error: 4.3412e-06\n",
      "Epoch 47/50\n",
      "3/3 [==============================] - 0s - loss: 4.4908e-05 - mean_squared_error: 4.4908e-05 - val_loss: 5.8732e-05 - val_mean_squared_error: 5.8732e-05\n",
      "Epoch 48/50\n",
      "3/3 [==============================] - 0s - loss: 2.1010e-04 - mean_squared_error: 2.1010e-04 - val_loss: 1.0859e-04 - val_mean_squared_error: 1.0859e-04\n",
      "Epoch 49/50\n",
      "3/3 [==============================] - 0s - loss: 1.7253e-04 - mean_squared_error: 1.7253e-04 - val_loss: 4.1020e-05 - val_mean_squared_error: 4.1020e-05\n",
      "Epoch 50/50\n",
      "3/3 [==============================] - 0s - loss: 8.0050e-06 - mean_squared_error: 8.0050e-06 - val_loss: 1.1401e-05 - val_mean_squared_error: 1.1401e-05\n"
     ]
    },
    {
     "data": {
      "text/plain": [
       "<keras.callbacks.History at 0x131c78e10>"
      ]
     },
     "execution_count": 37,
     "metadata": {},
     "output_type": "execute_result"
    }
   ],
   "source": [
    "training_data = sample\n",
    "epochs = 50\n",
    "validation_data = sample\n",
    "\n",
    "\n",
    "model = get_model()\n",
    "model.fit_generator(datagen.flow(X_train, y_train, batch_size=3), samples_per_epoch=training_data.shape[0],\n",
    "                    nb_epoch=epochs, validation_data=datagen.flow(X_train, y_train, batch_size=32),\n",
    "                    nb_val_samples=validation_data.shape[0])"
   ]
  },
  {
   "cell_type": "code",
   "execution_count": 38,
   "metadata": {
    "collapsed": false
   },
   "outputs": [
    {
     "data": {
      "text/plain": [
       "array([[-0.0486014 ],\n",
       "       [ 0.00955145],\n",
       "       [-0.00351881]], dtype=float32)"
      ]
     },
     "execution_count": 38,
     "metadata": {},
     "output_type": "execute_result"
    }
   ],
   "source": [
    "model.predict_generator(datagen.flow(X_train, y_train, batch_size=3, shuffle=False), training_data.shape[0])"
   ]
  },
  {
   "cell_type": "code",
   "execution_count": 39,
   "metadata": {
    "collapsed": false
   },
   "outputs": [
    {
     "data": {
      "text/plain": [
       "array([['IMG/center_2016_12_01_13_33_15_847.jpg', -0.05026283],\n",
       "       ['IMG/center_2016_12_01_13_43_29_827.jpg', 0.01391724],\n",
       "       ['IMG/center_2016_12_01_13_35_05_497.jpg', 0.0]], dtype=object)"
      ]
     },
     "execution_count": 39,
     "metadata": {},
     "output_type": "execute_result"
    }
   ],
   "source": [
    "training_data"
   ]
  },
  {
   "cell_type": "code",
   "execution_count": null,
   "metadata": {
    "collapsed": true
   },
   "outputs": [],
   "source": []
  }
 ],
 "metadata": {
  "anaconda-cloud": {},
  "kernelspec": {
   "display_name": "Python [conda env:carnd]",
   "language": "python",
   "name": "conda-env-carnd-py"
  },
  "language_info": {
   "codemirror_mode": {
    "name": "ipython",
    "version": 3
   },
   "file_extension": ".py",
   "mimetype": "text/x-python",
   "name": "python",
   "nbconvert_exporter": "python",
   "pygments_lexer": "ipython3",
   "version": "3.5.2"
  }
 },
 "nbformat": 4,
 "nbformat_minor": 1
}
