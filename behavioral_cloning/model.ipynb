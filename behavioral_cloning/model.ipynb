{
 "cells": [
  {
   "cell_type": "code",
   "execution_count": 1,
   "metadata": {
    "collapsed": false
   },
   "outputs": [
    {
     "name": "stderr",
     "output_type": "stream",
     "text": [
      "Using TensorFlow backend.\n"
     ]
    }
   ],
   "source": [
    "import numpy as np\n",
    "import pandas as pd\n",
    "import matplotlib.pyplot as plt\n",
    "import cv2\n",
    "from keras.models import Sequential\n",
    "from keras.layers import Dense, Dropout, Flatten, Lambda, ELU\n",
    "from keras.layers.convolutional import Convolution2D\n",
    "%matplotlib inline"
   ]
  },
  {
   "cell_type": "code",
   "execution_count": 2,
   "metadata": {
    "collapsed": true
   },
   "outputs": [],
   "source": [
    "base_dir = \"./data/\""
   ]
  },
  {
   "cell_type": "code",
   "execution_count": 3,
   "metadata": {
    "collapsed": false
   },
   "outputs": [],
   "source": [
    "def select_sample(data, n=1):\n",
    "    np.random.shuffle(data)\n",
    "    negatives = []\n",
    "    positives = []\n",
    "    straights = []\n",
    "    for d in data:\n",
    "        if d[1] > 0:\n",
    "            positives.append(d)\n",
    "        elif d[1] < 0:\n",
    "            negatives.append(d)\n",
    "        else:\n",
    "            straights.append(d)\n",
    "    return np.array(negatives[:n] + positives[:n] + straights[:n])\n",
    "\n",
    "def get_model():\n",
    "    ch, row, col = 3, 160, 320  # camera format\n",
    "\n",
    "    model = Sequential()\n",
    "    model.add(Lambda(lambda x: x/127.5 - 1.,\n",
    "            input_shape=(row, col, ch),\n",
    "            output_shape=(row, col, ch)))\n",
    "    model.add(Convolution2D(16, 8, 8, subsample=(4, 4), border_mode=\"same\"))\n",
    "    model.add(ELU())\n",
    "    model.add(Convolution2D(32, 5, 5, subsample=(2, 2), border_mode=\"same\"))\n",
    "    model.add(ELU())\n",
    "    model.add(Convolution2D(64, 5, 5, subsample=(2, 2), border_mode=\"same\"))\n",
    "    model.add(Flatten())\n",
    "    model.add(Dropout(.2))\n",
    "    model.add(ELU())\n",
    "    model.add(Dense(512))\n",
    "    model.add(Dropout(.5))\n",
    "    model.add(ELU())\n",
    "    model.add(Dense(1))\n",
    "\n",
    "    model.compile(optimizer=\"adam\", loss=\"mse\", metrics=['accuracy'])\n",
    "    return model\n",
    "    \n",
    "def data_gen(data):\n",
    "    while 1:\n",
    "        np.random.shuffle(data)\n",
    "        for d in data:\n",
    "            img = plt.imread(base_dir + d[0])\n",
    "            #res = cv2.resize(img,None,fx=1/2, fy=1/2, interpolation = cv2.INTER_AREA)\n",
    "            res = np.expand_dims(img, axis=0)\n",
    "            yield res, np.array([d[1]])"
   ]
  },
  {
   "cell_type": "code",
   "execution_count": 4,
   "metadata": {
    "collapsed": false
   },
   "outputs": [],
   "source": [
    "data = pd.read_csv(\"./data/driving_log.csv\")[['center', 'steering']].values\n",
    "sample = select_sample(data)"
   ]
  },
  {
   "cell_type": "code",
   "execution_count": 5,
   "metadata": {
    "collapsed": false
   },
   "outputs": [
    {
     "name": "stdout",
     "output_type": "stream",
     "text": [
      "Epoch 1/20\n",
      "3/3 [==============================] - 0s - loss: 0.0664 - acc: 0.3333 - val_loss: 2.9935 - val_acc: 0.0000e+00\n",
      "Epoch 2/20\n",
      "3/3 [==============================] - 0s - loss: 2.4934 - acc: 0.0000e+00 - val_loss: 0.4585 - val_acc: 0.0000e+00\n",
      "Epoch 3/20\n",
      "3/3 [==============================] - 0s - loss: 0.5905 - acc: 0.0000e+00 - val_loss: 6.9590 - val_acc: 0.0000e+00\n",
      "Epoch 4/20\n",
      "3/3 [==============================] - 0s - loss: 4.4174 - acc: 0.0000e+00 - val_loss: 2.9987 - val_acc: 0.3333\n",
      "Epoch 5/20\n",
      "3/3 [==============================] - 0s - loss: 0.9444 - acc: 0.3333 - val_loss: 3.7580 - val_acc: 0.0000e+00\n",
      "Epoch 6/20\n",
      "3/3 [==============================] - 0s - loss: 12.7564 - acc: 0.0000e+00 - val_loss: 7.7975 - val_acc: 0.0000e+00\n",
      "Epoch 7/20\n",
      "3/3 [==============================] - 0s - loss: 4.4350 - acc: 0.0000e+00 - val_loss: 19.8759 - val_acc: 0.0000e+00\n",
      "Epoch 8/20\n",
      "3/3 [==============================] - 0s - loss: 10.5937 - acc: 0.0000e+00 - val_loss: 3.5674 - val_acc: 0.0000e+00\n",
      "Epoch 9/20\n",
      "3/3 [==============================] - 0s - loss: 2.0114 - acc: 0.0000e+00 - val_loss: 4.9109 - val_acc: 0.0000e+00\n",
      "Epoch 10/20\n",
      "3/3 [==============================] - 0s - loss: 4.0187 - acc: 0.0000e+00 - val_loss: 0.6721 - val_acc: 0.0000e+00\n",
      "Epoch 11/20\n",
      "3/3 [==============================] - 0s - loss: 5.7230 - acc: 0.0000e+00 - val_loss: 1.0717 - val_acc: 0.3333\n",
      "Epoch 12/20\n",
      "3/3 [==============================] - 0s - loss: 0.7640 - acc: 0.0000e+00 - val_loss: 0.8688 - val_acc: 0.0000e+00\n",
      "Epoch 13/20\n",
      "3/3 [==============================] - 0s - loss: 0.6914 - acc: 0.3333 - val_loss: 0.2171 - val_acc: 0.3333\n",
      "Epoch 14/20\n",
      "3/3 [==============================] - 0s - loss: 0.6871 - acc: 0.0000e+00 - val_loss: 0.3248 - val_acc: 0.0000e+00\n",
      "Epoch 15/20\n",
      "3/3 [==============================] - 0s - loss: 0.6377 - acc: 0.3333 - val_loss: 0.1849 - val_acc: 0.3333\n",
      "Epoch 16/20\n",
      "3/3 [==============================] - 0s - loss: 0.7980 - acc: 0.3333 - val_loss: 0.3314 - val_acc: 0.0000e+00\n",
      "Epoch 17/20\n",
      "3/3 [==============================] - 0s - loss: 0.1586 - acc: 0.3333 - val_loss: 0.4293 - val_acc: 0.3333\n",
      "Epoch 18/20\n",
      "3/3 [==============================] - 0s - loss: 0.2798 - acc: 0.3333 - val_loss: 0.3906 - val_acc: 0.3333\n",
      "Epoch 19/20\n",
      "3/3 [==============================] - 0s - loss: 0.2553 - acc: 0.0000e+00 - val_loss: 0.8096 - val_acc: 0.0000e+00\n",
      "Epoch 20/20\n",
      "3/3 [==============================] - 0s - loss: 0.1541 - acc: 0.3333 - val_loss: 0.0048 - val_acc: 0.3333\n"
     ]
    },
    {
     "data": {
      "text/plain": [
       "<keras.callbacks.History at 0x12022b710>"
      ]
     },
     "execution_count": 5,
     "metadata": {},
     "output_type": "execute_result"
    }
   ],
   "source": [
    "training_data = sample\n",
    "epochs = 20\n",
    "validation_data = sample\n",
    "\n",
    "\n",
    "model = get_model()\n",
    "model.fit_generator(data_gen(training_data), samples_per_epoch=training_data.shape[0],\n",
    "                    nb_epoch=epochs, validation_data=data_gen(validation_data),\n",
    "                    nb_val_samples=validation_data.shape[0])"
   ]
  }
 ],
 "metadata": {
  "anaconda-cloud": {},
  "kernelspec": {
   "display_name": "Python [conda env:carnd]",
   "language": "python",
   "name": "conda-env-carnd-py"
  },
  "language_info": {
   "codemirror_mode": {
    "name": "ipython",
    "version": 3
   },
   "file_extension": ".py",
   "mimetype": "text/x-python",
   "name": "python",
   "nbconvert_exporter": "python",
   "pygments_lexer": "ipython3",
   "version": "3.5.2"
  }
 },
 "nbformat": 4,
 "nbformat_minor": 1
}
