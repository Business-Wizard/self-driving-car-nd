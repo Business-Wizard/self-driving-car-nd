{
 "cells": [
  {
   "cell_type": "code",
   "execution_count": 1,
   "metadata": {
    "collapsed": false
   },
   "outputs": [
    {
     "name": "stderr",
     "output_type": "stream",
     "text": [
      "Using TensorFlow backend.\n"
     ]
    }
   ],
   "source": [
    "import numpy as np\n",
    "import pandas as pd\n",
    "import matplotlib.pyplot as plt\n",
    "import cv2\n",
    "from keras.models import Sequential\n",
    "from keras.layers import Dense, Dropout, Flatten, Lambda, ELU\n",
    "from keras.layers.convolutional import Convolution2D\n",
    "from keras.preprocessing.image import ImageDataGenerator\n",
    "from keras import backend as K\n",
    "import json\n",
    "%matplotlib inline"
   ]
  },
  {
   "cell_type": "code",
   "execution_count": 6,
   "metadata": {
    "collapsed": false
   },
   "outputs": [],
   "source": [
    "new_size_col,new_size_row = 200, 66\n",
    "base_dir = \"./data/\"\n",
    "\n",
    "def augment_brightness_camera_images(image):\n",
    "    image1 = cv2.cvtColor(image,cv2.COLOR_RGB2HSV)\n",
    "    random_bright = .25+np.random.uniform()\n",
    "    image1[:,:,2] = image1[:,:,2]*random_bright\n",
    "    image1 = cv2.cvtColor(image1,cv2.COLOR_HSV2RGB)\n",
    "    return image1\n",
    "\n",
    "\n",
    "def trans_image(image,steer,trans_range):\n",
    "    tr_x = trans_range*np.random.uniform()-trans_range/2\n",
    "    steer_ang = steer + tr_x/trans_range*2*.2\n",
    "    tr_y = 40*np.random.uniform()-40/2\n",
    "    Trans_M = np.float32([[1,0,tr_x],[0,1,tr_y]])\n",
    "    image_tr = cv2.warpAffine(image,Trans_M,(cols,rows))\n",
    "    return image_tr,steer_ang\n",
    "\n",
    "\n",
    "def preprocessImage(image):\n",
    "    shape = image.shape\n",
    "    image = image[math.floor(shape[0]/5):shape[0]-25, 0:shape[1]]\n",
    "    image = cv2.resize(image,(new_size_col,new_size_row), interpolation=cv2.INTER_AREA)    \n",
    "    return image\n",
    "\n",
    "\n",
    "def preprocess_image_file_train(line_data):\n",
    "    i_lrc = np.random.randint(3)\n",
    "    if (i_lrc == 0):\n",
    "        path_file = base_dir + line_data['left'][0].strip()\n",
    "        shift_ang = .25\n",
    "    if (i_lrc == 1):\n",
    "        path_file = base_dir + line_data['center'][0].strip()\n",
    "        shift_ang = 0.\n",
    "    if (i_lrc == 2):\n",
    "        path_file = base_dir + line_data['right'][0].strip()\n",
    "        shift_ang = -.25\n",
    "    y_steer = line_data['steer_sm'][0] + shift_ang\n",
    "    image = cv2.imread(path_file)\n",
    "    image = cv2.cvtColor(image,cv2.COLOR_BGR2RGB)\n",
    "    image,y_steer,tr_x = trans_image(image,y_steer,100)\n",
    "    image = augment_brightness_camera_images(image)\n",
    "    image = preprocessImage(image)\n",
    "    image = np.array(image)\n",
    "    ind_flip = np.random.randint(2)\n",
    "    if ind_flip==0:\n",
    "        image = cv2.flip(image,1)\n",
    "        y_steer = -y_steer\n",
    "    \n",
    "    return image,y_steer\n",
    "\n",
    "\n",
    "def generate_train_from_PD_batch(data,batch_size = 32):\n",
    "    \n",
    "    batch_images = np.zeros((batch_size, new_size_row, new_size_col, 3))\n",
    "    batch_steering = np.zeros(batch_size)\n",
    "    while 1:\n",
    "        for i_batch in range(batch_size):\n",
    "            i_line = np.random.randint(len(data))\n",
    "            line_data = data.iloc[[i_line]].reset_index()\n",
    "            \n",
    "            keep_pr = 0\n",
    "            while keep_pr == 0:\n",
    "                x,y = preprocess_image_file_train(line_data)\n",
    "                pr_unif = np.random\n",
    "                if abs(y)<.1:\n",
    "                    pr_val = np.random.uniform()\n",
    "                    if pr_val>pr_threshold:\n",
    "                        keep_pr = 1\n",
    "                else:\n",
    "                    keep_pr = 1\n",
    "            \n",
    "            batch_images[i_batch] = x\n",
    "            batch_steering[i_batch] = y\n",
    "        yield batch_images, batch_steering\n",
    "        \n",
    "\n",
    "def get_model():\n",
    "    ch, row, col = 3, 80, 160  # camera format\n",
    "\n",
    "    model = Sequential()\n",
    "    model.add(Convolution2D(16, 8, 8, subsample=(4, 4), border_mode=\"same\", input_shape=(row, col, ch)))\n",
    "    model.add(ELU())\n",
    "    model.add(Convolution2D(32, 5, 5, subsample=(2, 2), border_mode=\"same\"))\n",
    "    model.add(ELU())\n",
    "    model.add(Convolution2D(64, 5, 5, subsample=(2, 2), border_mode=\"same\"))\n",
    "    model.add(Flatten())\n",
    "    model.add(Dropout(.2))\n",
    "    model.add(ELU())\n",
    "    model.add(Dense(512))\n",
    "    model.add(Dropout(.5))\n",
    "    model.add(ELU())\n",
    "    model.add(Dense(1))\n",
    "\n",
    "    model.compile(optimizer=\"adam\", loss=\"mse\", metrics=['mse'])\n",
    "    return model\n",
    "        \n",
    "        \n",
    "def get_model_nvidia():\n",
    "    model = Sequential()\n",
    "    model.add(Lambda(lambda: x/127.5 - 1., input_shape = (new_size_row, new_size_col, 3)))\n",
    "    model.add(Convolution2D(24, 5, 5, subsample=(2,2), border_mode=\"valid\", init=\"he_normal\"))\n",
    "    model.add(ELU())\n",
    "    model.add(Convolution2D(36, 5, 5, subsample=(2,2), border_mode=\"valid\", init=\"he_normal\"))\n",
    "    model.add(ELU())\n",
    "    model.add(Convolution2D(48, 5, 5, subsample=(2,2), border_mode=\"valid\", init=\"he_normal\"))\n",
    "    model.add(ELU())\n",
    "    model.add(Convolution2D(64, 3, 3, subsample=(1,1), border_mode=\"valid\", init=\"he_normal\"))\n",
    "    model.add(ELU())\n",
    "    model.add(Convolution2D(64, 3, 3, subsample=(1,1), border_mode=\"valid\", init=\"he_normal\"))\n",
    "    model.add(ELU())\n",
    "    model.add(Flatten())\n",
    "    model.add(Dense(1164, init=\"he_normal\"))\n",
    "    model.add(ELU())\n",
    "    model.add(Dense(100, init=\"he_normal\"))\n",
    "    model.add(ELU())\n",
    "    model.add(Dense(50, init=\"he_normal\"))\n",
    "    model.add(ELU())\n",
    "    model.add(Dense(10, init=\"he_normal\"))\n",
    "    model.add(ELU())\n",
    "    model.add(Dense(1, init=\"he_normal\"))\n",
    "    return model"
   ]
  },
  {
   "cell_type": "code",
   "execution_count": 4,
   "metadata": {
    "collapsed": false
   },
   "outputs": [],
   "source": [
    "data = pd.read_csv(\"./data/driving_log.csv\")"
   ]
  },
  {
   "cell_type": "code",
   "execution_count": 6,
   "metadata": {
    "collapsed": false
   },
   "outputs": [
    {
     "name": "stdout",
     "output_type": "stream",
     "text": [
      "Epoch 1/1\n",
      "48224/48216 [==============================] - 319s - loss: 0.0174 - mean_squared_error: 0.0174   \n"
     ]
    },
    {
     "name": "stderr",
     "output_type": "stream",
     "text": [
      "/Users/tylerfolkman/anaconda/envs/carnd/lib/python3.5/site-packages/keras/engine/training.py:1527: UserWarning: Epoch comprised more than `samples_per_epoch` samples, which might affect learning results. Set `samples_per_epoch` correctly to avoid this warning.\n",
      "  warnings.warn('Epoch comprised more than '\n"
     ]
    },
    {
     "data": {
      "text/plain": [
       "<keras.callbacks.History at 0x121ece160>"
      ]
     },
     "execution_count": 6,
     "metadata": {},
     "output_type": "execute_result"
    }
   ],
   "source": [
    "training_data = data\n",
    "epochs = 1\n",
    "validation_data = data\n",
    "\n",
    "\n",
    "model = get_model()\n",
    "model.fit_generator(data_gen(training_data, mean, std, 32), samples_per_epoch=training_data.shape[0],\n",
    "                    nb_epoch=epochs)"
   ]
  },
  {
   "cell_type": "code",
   "execution_count": 7,
   "metadata": {
    "collapsed": false
   },
   "outputs": [],
   "source": [
    "#model.predict_generator(data_gen(training_data, mean, std, 3, False, True), training_data.shape[0])"
   ]
  },
  {
   "cell_type": "code",
   "execution_count": 8,
   "metadata": {
    "collapsed": false
   },
   "outputs": [],
   "source": [
    "model.save_weights(\"model.h5\")\n",
    "model_json = model.to_json()\n",
    "with open('model.json', 'w') as outfile:\n",
    "    outfile.write(model_json)"
   ]
  },
  {
   "cell_type": "code",
   "execution_count": null,
   "metadata": {
    "collapsed": true
   },
   "outputs": [],
   "source": []
  }
 ],
 "metadata": {
  "anaconda-cloud": {},
  "kernelspec": {
   "display_name": "Python [default]",
   "language": "python",
   "name": "python3"
  },
  "language_info": {
   "codemirror_mode": {
    "name": "ipython",
    "version": 3
   },
   "file_extension": ".py",
   "mimetype": "text/x-python",
   "name": "python",
   "nbconvert_exporter": "python",
   "pygments_lexer": "ipython3",
   "version": "3.5.2"
  }
 },
 "nbformat": 4,
 "nbformat_minor": 1
}
