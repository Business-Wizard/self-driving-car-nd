{
 "cells": [
  {
   "cell_type": "code",
   "execution_count": 2,
   "metadata": {
    "collapsed": false
   },
   "outputs": [],
   "source": [
    "import numpy as np\n",
    "import cv2\n",
    "import glob\n",
    "import matplotlib.pyplot as plt\n",
    "import matplotlib.image as mpimg\n",
    "from moviepy.editor import VideoFileClip\n",
    "from IPython.display import HTML\n",
    "from functools import partial\n",
    "from collections import deque\n",
    "%matplotlib inline"
   ]
  },
  {
   "cell_type": "code",
   "execution_count": 30,
   "metadata": {
    "collapsed": false
   },
   "outputs": [],
   "source": [
    "class FindLanes:\n",
    "    \n",
    "    def __init__(self):\n",
    "        self.search_start = -1\n",
    "        self.search_end = -1\n",
    "        self.error_counter = 0\n",
    "        self.smooth_value = 10\n",
    "        self.update_data = 10\n",
    "        self.frame = 0\n",
    "        self.left_curvature = 0\n",
    "        self.right_curvature = 0\n",
    "        self.off_center = 0\n",
    "        self.leftx = deque(maxlen=self.smooth_value)\n",
    "        self.lefty = deque(maxlen=self.smooth_value)\n",
    "        self.rightx = deque(maxlen=self.smooth_value)\n",
    "        self.righty = deque(maxlen=self.smooth_value)\n",
    "        self.ym_per_pix = 30/720 # meters per pixel in y dimension\n",
    "        self.xm_per_pix = 3.7/700 # meters per pixel in x dimension\n",
    "        \n",
    "    \n",
    "    def compute_calibartion_points(self):\n",
    "        # prepare object points, like (0,0,0), (1,0,0), (2,0,0) ....,(6,5,0)\n",
    "        objp = np.zeros((6*9,3), np.float32)\n",
    "        objp[:,:2] = np.mgrid[0:9,0:6].T.reshape(-1,2)\n",
    "\n",
    "        # Arrays to store object points and image points from all the images.\n",
    "        objpoints = [] # 3d points in real world space\n",
    "        imgpoints = [] # 2d points in image plane.\n",
    "\n",
    "        # Make a list of calibration images\n",
    "        images = glob.glob('./camera_cal/calibration*.jpg')\n",
    "\n",
    "        # Step through the list and search for chessboard corners\n",
    "        for fname in images:\n",
    "            img = cv2.imread(fname)\n",
    "            gray = cv2.cvtColor(img,cv2.COLOR_BGR2GRAY)\n",
    "\n",
    "            # Find the chessboard corners\n",
    "            ret, corners = cv2.findChessboardCorners(gray, (9,6),None)\n",
    "\n",
    "            # If found, add object points, image points\n",
    "            if ret == True:\n",
    "                objpoints.append(objp)\n",
    "                imgpoints.append(corners)\n",
    "        self.objpoints = objpoints\n",
    "        self.imgpoints = imgpoints\n",
    "\n",
    "\n",
    "    def undistort_image(self, img):\n",
    "        ret, mtx, dist, rvecs, tvecs = cv2.calibrateCamera(self.objpoints, self.imgpoints, \n",
    "                                                           (img.shape[1], img.shape[0]),None,None)\n",
    "        return cv2.undistort(img, mtx, dist, None, mtx)\n",
    "\n",
    "\n",
    "    def binary_pipeline(self, img, s_thresh=(170, 255), sx_thresh=(20, 100)):\n",
    "        img = np.copy(img)\n",
    "        # Convert to HLS color space\n",
    "        hsv = cv2.cvtColor(img, cv2.COLOR_RGB2HLS).astype(np.float)\n",
    "        l_channel = hsv[:,:,1]\n",
    "        s_channel = hsv[:,:,2]\n",
    "        # Sobel x\n",
    "        sobelx = cv2.Sobel(l_channel, cv2.CV_64F, 1, 0) # Take the derivative in x\n",
    "        abs_sobelx = np.absolute(sobelx) # Absolute x derivative to accentuate lines away from horizontal\n",
    "        scaled_sobel = np.uint8(255*abs_sobelx/np.max(abs_sobelx))\n",
    "\n",
    "        # Threshold x gradient\n",
    "        sxbinary = np.zeros_like(scaled_sobel)\n",
    "        sxbinary[(scaled_sobel >= sx_thresh[0]) & (scaled_sobel <= sx_thresh[1])] = 1\n",
    "\n",
    "        # Threshold color channel\n",
    "        s_binary = np.zeros_like(s_channel)\n",
    "        s_binary[(s_channel >= s_thresh[0]) & (s_channel <= s_thresh[1])] = 1\n",
    "\n",
    "        #combine\n",
    "        color_binary = np.zeros_like(scaled_sobel)\n",
    "        color_binary[(sxbinary == 1) | (s_binary ==1)] = 1\n",
    "        return color_binary\n",
    "\n",
    "\n",
    "    def warper(self, img):\n",
    "        img_size = (img.shape[1], img.shape[0])\n",
    "        src = np.float32(\n",
    "            [[(img_size[0] / 2) - 55, img_size[1] / 2 + 100],\n",
    "            [((img_size[0] / 6) - 10), img_size[1]],\n",
    "            [(img_size[0] * 5 / 6) + 60, img_size[1]],\n",
    "            [(img_size[0] / 2 + 55), img_size[1] / 2 + 100]])\n",
    "        dst = np.float32(\n",
    "            [[(img_size[0] / 4), 0],\n",
    "            [(img_size[0] / 4), img_size[1]],\n",
    "            [(img_size[0] * 3 / 4), img_size[1]],\n",
    "            [(img_size[0] * 3 / 4), 0]])\n",
    "        M = cv2.getPerspectiveTransform(src, dst)\n",
    "        Minv = cv2.getPerspectiveTransform(dst, src)\n",
    "        warped = cv2.warpPerspective(img, M, img_size, flags=cv2.INTER_NEAREST)  # keep same size as input image\n",
    "        return warped, Minv\n",
    "\n",
    "    \n",
    "    def get_histogram_points(self, binary_warped):\n",
    "        if self.search_start == -1:\n",
    "            search_start = 150\n",
    "        else:\n",
    "            search_start = self.search_start\n",
    "        if self.search_end == -1:\n",
    "            search_end = 1150\n",
    "        else:\n",
    "            search_end = min(self.search_end, binary_warped.shape[1])\n",
    "        \n",
    "        histogram = np.sum(binary_warped[binary_warped.shape[0]/2:,search_start:search_end], axis=0)\n",
    "\n",
    "        midpoint = np.int(histogram.shape[0]/2)\n",
    "        leftx_base = search_start + np.argmax(histogram[:midpoint])\n",
    "        rightx_base = search_start + np.argmax(histogram[midpoint:]) + midpoint\n",
    "\n",
    "        return midpoint, leftx_base, rightx_base\n",
    "    \n",
    "\n",
    "    def polynomial_pipeline(self, binary_warped, Minv, image, on_road, nwindows=9, margin=100, minpix=50):\n",
    "        # histogram of bottom 1/2\n",
    "        midpoint, leftx_base, rightx_base = self.get_histogram_points(binary_warped)\n",
    "        if rightx_base - leftx_base < 700:\n",
    "            self.search_start = -1\n",
    "            self.search_end = -1\n",
    "            midpoint, leftx_base, rightx_base = self.get_histogram_points(binary_warped)\n",
    "        self.search_start = max(leftx_base - margin, 0)\n",
    "        self.search_end = rightx_base + margin\n",
    "\n",
    "        # Set height of windows\n",
    "        window_height = np.int(binary_warped.shape[0]/nwindows)\n",
    "        # Identify the x and y positions of all nonzero pixels in the image\n",
    "        nonzero = binary_warped.nonzero()\n",
    "        nonzeroy = np.array(nonzero[0])\n",
    "        nonzerox = np.array(nonzero[1])\n",
    "        # Current positions to be updated for each window\n",
    "        leftx_current = leftx_base\n",
    "        rightx_current = rightx_base\n",
    "        # Create empty lists to receive left and right lane pixel indices\n",
    "        left_lane_inds = []\n",
    "        right_lane_inds = []\n",
    "\n",
    "        # Step through the windows one by one\n",
    "        for window in range(nwindows):\n",
    "            # Identify window boundaries in x and y (and right and left)\n",
    "            win_y_low = binary_warped.shape[0] - (window+1)*window_height\n",
    "            win_y_high = binary_warped.shape[0] - window*window_height\n",
    "            win_xleft_low = leftx_current - margin\n",
    "            win_xleft_high = leftx_current + margin\n",
    "            win_xright_low = rightx_current - margin\n",
    "            win_xright_high = rightx_current + margin\n",
    "            # Identify the nonzero pixels in x and y within the window\n",
    "            good_left_inds = ((nonzeroy >= win_y_low) & (nonzeroy < win_y_high) & (nonzerox >= win_xleft_low) & (nonzerox < win_xleft_high)).nonzero()[0]\n",
    "            good_right_inds = ((nonzeroy >= win_y_low) & (nonzeroy < win_y_high) & (nonzerox >= win_xright_low) & (nonzerox < win_xright_high)).nonzero()[0]\n",
    "            # Append these indices to the lists\n",
    "            left_lane_inds.append(good_left_inds)\n",
    "            right_lane_inds.append(good_right_inds)\n",
    "            # If you found > minpix pixels, recenter next window on their mean position\n",
    "            if len(good_left_inds) > minpix:\n",
    "                leftx_current = np.int(np.mean(nonzerox[good_left_inds]))\n",
    "            if len(good_right_inds) > minpix:        \n",
    "                rightx_current = np.int(np.mean(nonzerox[good_right_inds]))\n",
    "\n",
    "        # Concatenate the arrays of indices\n",
    "        left_lane_inds = np.concatenate(left_lane_inds)\n",
    "        right_lane_inds = np.concatenate(right_lane_inds)\n",
    "\n",
    "        # Extract left and right line pixel positions. x and y values\n",
    "        self.leftx.append(nonzerox[left_lane_inds])\n",
    "        self.lefty.append(nonzeroy[left_lane_inds]) \n",
    "        self.rightx.append(nonzerox[right_lane_inds])\n",
    "        self.righty.append(nonzeroy[right_lane_inds])\n",
    "        \n",
    "        leftx = self.get_all_pixels(self.leftx)\n",
    "        lefty = self.get_all_pixels(self.lefty)\n",
    "        rightx = self.get_all_pixels(self.rightx)\n",
    "        righty = self.get_all_pixels(self.righty)\n",
    "\n",
    "        # Fit a second order polynomial to each\n",
    "        left_fit = np.polyfit(lefty, leftx, 2)\n",
    "        right_fit = np.polyfit(righty, rightx, 2)\n",
    "\n",
    "        ploty = np.linspace(0, binary_warped.shape[0]-1, binary_warped.shape[0] )\n",
    "        left_fitx = left_fit[0]*ploty**2 + left_fit[1]*ploty + left_fit[2]\n",
    "        right_fitx = right_fit[0]*ploty**2 + right_fit[1]*ploty + right_fit[2]\n",
    "        \n",
    "        if (self.frame % self.update_data == 0):\n",
    "            self.get_curvature(binary_warped, lefty, leftx, righty, rightx)\n",
    "            y_eval = binary_warped.shape[0]\n",
    "            left_bot = left_fit[0]*y_eval**2 + left_fit[1]*y_eval + left_fit[2]\n",
    "            right_bot = right_fit[0]*y_eval**2 + right_fit[1]*y_eval + right_fit[2]\n",
    "            mid_bot = (left_bot + right_bot) / 2\n",
    "            mid_photo = image.shape[1] / 2\n",
    "            #positive is right of center. in meters\n",
    "            self.off_center = (mid_bot - mid_photo) * self.xm_per_pix\n",
    "\n",
    "        font = cv2.FONT_HERSHEY_SIMPLEX\n",
    "        cv2.putText(image,'Left Curvature: ' + str(int(self.left_curvature)),(10,60), font, 2,(255,255,255),2,cv2.LINE_AA)\n",
    "        cv2.putText(image,'Right Curvature: ' + str(int(self.right_curvature)),(10,125), font, 2,(255,255,255),2,cv2.LINE_AA)\n",
    "        cv2.putText(image,'Center offset: ' + str(round(self.off_center,2)),(10,190), font, 2,(255,255,255),2,cv2.LINE_AA)\n",
    "          \n",
    "        if on_road:\n",
    "            return self.plot_on_road(binary_warped, image, left_fitx, right_fitx, ploty, Minv)\n",
    "        else:\n",
    "            return left_fitx, right_fitx, ploty\n",
    "    \n",
    "\n",
    "    def get_all_pixels(self, q):\n",
    "        all_pixels = []\n",
    "        for v in q:\n",
    "            all_pixels.extend(v)\n",
    "        return np.array(all_pixels)\n",
    "    \n",
    "    \n",
    "    def plot_on_road(self, binary_warped, image, left_fitx, right_fitx, ploty, Minv):\n",
    "        # Create an image to draw the lines on\n",
    "        warp_zero = np.zeros_like(binary_warped).astype(np.uint8)\n",
    "        color_warp = np.dstack((warp_zero, warp_zero, warp_zero))\n",
    "\n",
    "        # Recast the x and y points into usable format for cv2.fillPoly()\n",
    "        pts_left = np.array([np.transpose(np.vstack([left_fitx, ploty]))])\n",
    "        pts_right = np.array([np.flipud(np.transpose(np.vstack([right_fitx, ploty])))])\n",
    "        pts = np.hstack((pts_left, pts_right))\n",
    "\n",
    "        # Draw the lane onto the warped blank image\n",
    "        cv2.fillPoly(color_warp, np.int_([pts]), (0,255, 0))\n",
    "\n",
    "        # Warp the blank back to original image space using inverse perspective matrix (Minv)\n",
    "        newwarp = cv2.warpPerspective(color_warp, Minv, (image.shape[1], image.shape[0])) \n",
    "        # Combine the result with the original image\n",
    "        return cv2.addWeighted(image, 1, newwarp, 0.3, 0)\n",
    "    \n",
    "    \n",
    "    def process_image(self, img):\n",
    "        undistort = self.undistort_image(img)\n",
    "        binary = self.binary_pipeline(undistort)\n",
    "        warped, Minv = self.warper(binary)\n",
    "        on_road = self.polynomial_pipeline(warped, Minv, img, True)\n",
    "        self.frame = self.frame + 1\n",
    "        return on_road\n",
    "    \n",
    "    \n",
    "    def get_binary_warped(self, img):\n",
    "        undistort = self.undistort_image(img)\n",
    "        binary = self.binary_pipeline(undistort)\n",
    "        return self.warper(binary)\n",
    "    \n",
    "    \n",
    "    def get_curvature(self, binary_warped, lefty, leftx, righty, rightx):\n",
    "        ym_per_pix = self.ym_per_pix\n",
    "        xm_per_pix = self.xm_per_pix\n",
    "        y_eval = binary_warped.shape[0]/2\n",
    "\n",
    "        # Fit new polynomials to x,y in world space\n",
    "        left_fit_cr = np.polyfit(lefty*ym_per_pix, leftx*xm_per_pix, 2)\n",
    "        right_fit_cr = np.polyfit(righty*ym_per_pix, rightx*xm_per_pix, 2)\n",
    "        # Calculate the new radii of curvature\n",
    "        left_curverad = ((1 + (2*left_fit_cr[0]*y_eval*ym_per_pix + left_fit_cr[1])**2)**1.5) / np.absolute(2*left_fit_cr[0])\n",
    "        right_curverad = ((1 + (2*right_fit_cr[0]*y_eval*ym_per_pix + right_fit_cr[1])**2)**1.5) / np.absolute(2*right_fit_cr[0])\n",
    "        # Now our radius of curvature is in meters\n",
    "        \n",
    "        self.left_curvature = left_curverad\n",
    "        self.right_curvature = right_curverad"
   ]
  },
  {
   "cell_type": "code",
   "execution_count": 31,
   "metadata": {
    "collapsed": false
   },
   "outputs": [],
   "source": [
    "find_lanes = FindLanes()\n",
    "find_lanes.compute_calibartion_points()"
   ]
  },
  {
   "cell_type": "code",
   "execution_count": 32,
   "metadata": {
    "collapsed": false
   },
   "outputs": [],
   "source": [
    "undistorted = find_lanes.undistort_image(plt.imread(\"./camera_cal/calibration1.jpg\"))\n",
    "plt.imsave(\"./readme_images/undistorted.jpg\", undistorted)"
   ]
  },
  {
   "cell_type": "code",
   "execution_count": 33,
   "metadata": {
    "collapsed": false
   },
   "outputs": [],
   "source": [
    "image = plt.imread(\"test_images/test2.jpg\")\n",
    "undistorted = find_lanes.undistort_image(image)\n",
    "plt.imsave(\"./readme_images/undistorted_car.jpg\", undistorted)"
   ]
  },
  {
   "cell_type": "code",
   "execution_count": 34,
   "metadata": {
    "collapsed": false
   },
   "outputs": [],
   "source": [
    "binary = find_lanes.binary_pipeline(undistorted)\n",
    "plt.imsave(\"./readme_images/binary.jpg\", binary)"
   ]
  },
  {
   "cell_type": "code",
   "execution_count": 35,
   "metadata": {
    "collapsed": false
   },
   "outputs": [],
   "source": [
    "warped, Minv = find_lanes.warper(undistorted)\n",
    "plt.imsave(\"./readme_images/warped.jpg\", binary)"
   ]
  },
  {
   "cell_type": "code",
   "execution_count": 36,
   "metadata": {
    "collapsed": false
   },
   "outputs": [
    {
     "ename": "TypeError",
     "evalue": "expected non-empty vector for x",
     "output_type": "error",
     "traceback": [
      "\u001b[0;31m---------------------------------------------------------------------------\u001b[0m",
      "\u001b[0;31mTypeError\u001b[0m                                 Traceback (most recent call last)",
      "\u001b[0;32m<ipython-input-36-df07ccd474fd>\u001b[0m in \u001b[0;36m<module>\u001b[0;34m()\u001b[0m\n\u001b[0;32m----> 1\u001b[0;31m \u001b[0mleft_fitx\u001b[0m\u001b[0;34m,\u001b[0m \u001b[0mright_fitx\u001b[0m\u001b[0;34m,\u001b[0m \u001b[0mploty\u001b[0m \u001b[0;34m=\u001b[0m \u001b[0mfind_lanes\u001b[0m\u001b[0;34m.\u001b[0m\u001b[0mpolynomial_pipeline\u001b[0m\u001b[0;34m(\u001b[0m\u001b[0mwarped\u001b[0m\u001b[0;34m,\u001b[0m \u001b[0mMinv\u001b[0m\u001b[0;34m,\u001b[0m \u001b[0mimage\u001b[0m\u001b[0;34m,\u001b[0m \u001b[0;32mFalse\u001b[0m\u001b[0;34m)\u001b[0m\u001b[0;34m\u001b[0m\u001b[0m\n\u001b[0m\u001b[1;32m      2\u001b[0m \u001b[0mplt\u001b[0m\u001b[0;34m.\u001b[0m\u001b[0mimshow\u001b[0m\u001b[0;34m(\u001b[0m\u001b[0mwarped\u001b[0m\u001b[0;34m)\u001b[0m\u001b[0;34m\u001b[0m\u001b[0m\n\u001b[1;32m      3\u001b[0m \u001b[0mplt\u001b[0m\u001b[0;34m.\u001b[0m\u001b[0mplot\u001b[0m\u001b[0;34m(\u001b[0m\u001b[0mleft_fitx\u001b[0m\u001b[0;34m,\u001b[0m \u001b[0mploty\u001b[0m\u001b[0;34m,\u001b[0m \u001b[0mcolor\u001b[0m\u001b[0;34m=\u001b[0m\u001b[0;34m'yellow'\u001b[0m\u001b[0;34m)\u001b[0m\u001b[0;34m\u001b[0m\u001b[0m\n\u001b[1;32m      4\u001b[0m \u001b[0mplt\u001b[0m\u001b[0;34m.\u001b[0m\u001b[0mplot\u001b[0m\u001b[0;34m(\u001b[0m\u001b[0mright_fitx\u001b[0m\u001b[0;34m,\u001b[0m \u001b[0mploty\u001b[0m\u001b[0;34m,\u001b[0m \u001b[0mcolor\u001b[0m\u001b[0;34m=\u001b[0m\u001b[0;34m'yellow'\u001b[0m\u001b[0;34m)\u001b[0m\u001b[0;34m\u001b[0m\u001b[0m\n",
      "\u001b[0;32m<ipython-input-30-684b23bf8d70>\u001b[0m in \u001b[0;36mpolynomial_pipeline\u001b[0;34m(self, binary_warped, Minv, image, on_road, nwindows, margin, minpix)\u001b[0m\n\u001b[1;32m    176\u001b[0m         \u001b[0;31m# Fit a second order polynomial to each\u001b[0m\u001b[0;34m\u001b[0m\u001b[0;34m\u001b[0m\u001b[0m\n\u001b[1;32m    177\u001b[0m         \u001b[0mleft_fit\u001b[0m \u001b[0;34m=\u001b[0m \u001b[0mnp\u001b[0m\u001b[0;34m.\u001b[0m\u001b[0mpolyfit\u001b[0m\u001b[0;34m(\u001b[0m\u001b[0mlefty\u001b[0m\u001b[0;34m,\u001b[0m \u001b[0mleftx\u001b[0m\u001b[0;34m,\u001b[0m \u001b[0;36m2\u001b[0m\u001b[0;34m)\u001b[0m\u001b[0;34m\u001b[0m\u001b[0m\n\u001b[0;32m--> 178\u001b[0;31m         \u001b[0mright_fit\u001b[0m \u001b[0;34m=\u001b[0m \u001b[0mnp\u001b[0m\u001b[0;34m.\u001b[0m\u001b[0mpolyfit\u001b[0m\u001b[0;34m(\u001b[0m\u001b[0mrighty\u001b[0m\u001b[0;34m,\u001b[0m \u001b[0mrightx\u001b[0m\u001b[0;34m,\u001b[0m \u001b[0;36m2\u001b[0m\u001b[0;34m)\u001b[0m\u001b[0;34m\u001b[0m\u001b[0m\n\u001b[0m\u001b[1;32m    179\u001b[0m \u001b[0;34m\u001b[0m\u001b[0m\n\u001b[1;32m    180\u001b[0m         \u001b[0mploty\u001b[0m \u001b[0;34m=\u001b[0m \u001b[0mnp\u001b[0m\u001b[0;34m.\u001b[0m\u001b[0mlinspace\u001b[0m\u001b[0;34m(\u001b[0m\u001b[0;36m0\u001b[0m\u001b[0;34m,\u001b[0m \u001b[0mbinary_warped\u001b[0m\u001b[0;34m.\u001b[0m\u001b[0mshape\u001b[0m\u001b[0;34m[\u001b[0m\u001b[0;36m0\u001b[0m\u001b[0;34m]\u001b[0m\u001b[0;34m-\u001b[0m\u001b[0;36m1\u001b[0m\u001b[0;34m,\u001b[0m \u001b[0mbinary_warped\u001b[0m\u001b[0;34m.\u001b[0m\u001b[0mshape\u001b[0m\u001b[0;34m[\u001b[0m\u001b[0;36m0\u001b[0m\u001b[0;34m]\u001b[0m \u001b[0;34m)\u001b[0m\u001b[0;34m\u001b[0m\u001b[0m\n",
      "\u001b[0;32m/Users/tfolkman/anaconda3/envs/CarND-Traffic-Sign-Classifier-Project/lib/python3.5/site-packages/numpy/lib/polynomial.py\u001b[0m in \u001b[0;36mpolyfit\u001b[0;34m(x, y, deg, rcond, full, w, cov)\u001b[0m\n\u001b[1;32m    557\u001b[0m         \u001b[0;32mraise\u001b[0m \u001b[0mTypeError\u001b[0m\u001b[0;34m(\u001b[0m\u001b[0;34m\"expected 1D vector for x\"\u001b[0m\u001b[0;34m)\u001b[0m\u001b[0;34m\u001b[0m\u001b[0m\n\u001b[1;32m    558\u001b[0m     \u001b[0;32mif\u001b[0m \u001b[0mx\u001b[0m\u001b[0;34m.\u001b[0m\u001b[0msize\u001b[0m \u001b[0;34m==\u001b[0m \u001b[0;36m0\u001b[0m\u001b[0;34m:\u001b[0m\u001b[0;34m\u001b[0m\u001b[0m\n\u001b[0;32m--> 559\u001b[0;31m         \u001b[0;32mraise\u001b[0m \u001b[0mTypeError\u001b[0m\u001b[0;34m(\u001b[0m\u001b[0;34m\"expected non-empty vector for x\"\u001b[0m\u001b[0;34m)\u001b[0m\u001b[0;34m\u001b[0m\u001b[0m\n\u001b[0m\u001b[1;32m    560\u001b[0m     \u001b[0;32mif\u001b[0m \u001b[0my\u001b[0m\u001b[0;34m.\u001b[0m\u001b[0mndim\u001b[0m \u001b[0;34m<\u001b[0m \u001b[0;36m1\u001b[0m \u001b[0;32mor\u001b[0m \u001b[0my\u001b[0m\u001b[0;34m.\u001b[0m\u001b[0mndim\u001b[0m \u001b[0;34m>\u001b[0m \u001b[0;36m2\u001b[0m\u001b[0;34m:\u001b[0m\u001b[0;34m\u001b[0m\u001b[0m\n\u001b[1;32m    561\u001b[0m         \u001b[0;32mraise\u001b[0m \u001b[0mTypeError\u001b[0m\u001b[0;34m(\u001b[0m\u001b[0;34m\"expected 1D or 2D array for y\"\u001b[0m\u001b[0;34m)\u001b[0m\u001b[0;34m\u001b[0m\u001b[0m\n",
      "\u001b[0;31mTypeError\u001b[0m: expected non-empty vector for x"
     ]
    }
   ],
   "source": [
    "left_fitx, right_fitx, ploty = find_lanes.polynomial_pipeline(warped, Minv, image, False)\n",
    "plt.imshow(warped)\n",
    "plt.plot(left_fitx, ploty, color='yellow')\n",
    "plt.plot(right_fitx, ploty, color='yellow')"
   ]
  },
  {
   "cell_type": "markdown",
   "metadata": {},
   "source": [
    "## video"
   ]
  },
  {
   "cell_type": "code",
   "execution_count": 8,
   "metadata": {
    "collapsed": false
   },
   "outputs": [
    {
     "name": "stdout",
     "output_type": "stream",
     "text": [
      "[MoviePy] >>>> Building video project_video_lines.mp4\n",
      "[MoviePy] Writing video project_video_lines.mp4\n"
     ]
    },
    {
     "name": "stderr",
     "output_type": "stream",
     "text": [
      "100%|█████████▉| 1260/1261 [14:45<00:00,  1.40it/s]    | 1/1261 [00:00<13:02,  1.61it/s]\n"
     ]
    },
    {
     "name": "stdout",
     "output_type": "stream",
     "text": [
      "[MoviePy] Done.\n",
      "[MoviePy] >>>> Video ready: project_video_lines.mp4 \n",
      "\n",
      "CPU times: user 34min 7s, sys: 1min 19s, total: 35min 26s\n",
      "Wall time: 14min 46s\n"
     ]
    }
   ],
   "source": [
    "lanes_output = 'project_video_lines.mp4'\n",
    "clip1 = VideoFileClip(\"project_video.mp4\")\n",
    "lanes_clip = clip1.fl_image(find_lanes.process_image) #NOTE: this function expects color images!!\n",
    "%time lanes_clip.write_videofile(lanes_output, audio=False)"
   ]
  },
  {
   "cell_type": "code",
   "execution_count": 9,
   "metadata": {
    "collapsed": false
   },
   "outputs": [
    {
     "data": {
      "text/html": [
       "\n",
       "<video width=\"960\" height=\"540\" controls>\n",
       "  <source src=\"project_video_lines.mp4\">\n",
       "</video>\n"
      ],
      "text/plain": [
       "<IPython.core.display.HTML object>"
      ]
     },
     "execution_count": 9,
     "metadata": {},
     "output_type": "execute_result"
    }
   ],
   "source": [
    "HTML(\"\"\"\n",
    "<video width=\"960\" height=\"540\" controls>\n",
    "  <source src=\"{0}\">\n",
    "</video>\n",
    "\"\"\".format(lanes_output))"
   ]
  },
  {
   "cell_type": "code",
   "execution_count": null,
   "metadata": {
    "collapsed": true
   },
   "outputs": [],
   "source": []
  }
 ],
 "metadata": {
  "anaconda-cloud": {},
  "kernelspec": {
   "display_name": "Python [default]",
   "language": "python",
   "name": "python3"
  },
  "language_info": {
   "codemirror_mode": {
    "name": "ipython",
    "version": 3
   },
   "file_extension": ".py",
   "mimetype": "text/x-python",
   "name": "python",
   "nbconvert_exporter": "python",
   "pygments_lexer": "ipython3",
   "version": "3.5.2"
  }
 },
 "nbformat": 4,
 "nbformat_minor": 1
}
