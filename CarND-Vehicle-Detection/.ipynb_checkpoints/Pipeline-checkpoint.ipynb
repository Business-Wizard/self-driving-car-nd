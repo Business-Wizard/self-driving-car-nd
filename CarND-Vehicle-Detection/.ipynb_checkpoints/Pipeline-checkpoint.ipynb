{
 "cells": [
  {
   "cell_type": "code",
   "execution_count": 24,
   "metadata": {
    "collapsed": false
   },
   "outputs": [],
   "source": [
    "import numpy as np\n",
    "import cv2\n",
    "import matplotlib.pyplot as plt\n",
    "from skimage.feature import hog\n",
    "import matplotlib.image as mpimg\n",
    "import glob\n",
    "from sklearn.preprocessing import StandardScaler\n",
    "from sklearn.model_selection import train_test_split\n",
    "from sklearn.svm import LinearSVC\n",
    "%matplotlib inline"
   ]
  },
  {
   "cell_type": "code",
   "execution_count": 22,
   "metadata": {
    "collapsed": false
   },
   "outputs": [],
   "source": [
    "class PreProcessing:\n",
    "    \n",
    "    def __init__(self, X_scaler=None, nbins=32, \n",
    "                 orient=8, pix_per_cell=8, cell_per_block=2, \n",
    "                 conv='RGB2YCrCb', size=(32,32)):\n",
    "        self.conv = conv\n",
    "        self.size = size\n",
    "        self.orient = orient\n",
    "        self.pix_per_cell = pix_per_cell\n",
    "        self.cell_per_block = cell_per_block\n",
    "        self.nbins = nbins\n",
    "        self.X_scaler = X_scaler\n",
    "        \n",
    "        \n",
    "    def set_image(self, image_file):\n",
    "        image = mpimg.imread(image_file)\n",
    "        image = image.astype(np.float32)/255\n",
    "        if self.conv != None:\n",
    "            self.image = self.convert_color(image, self.conv)\n",
    "        else:\n",
    "            self.image = image\n",
    "        self.ch1 = self.image[:,:,0]\n",
    "        self.ch2 = self.image[:,:,1]\n",
    "        self.ch3 = self.image[:,:,2]\n",
    "        \n",
    "        \n",
    "    def convert_color(self, img, conv='RGB2YCrCb'):\n",
    "        if conv == 'RGB2YCrCb':\n",
    "            return cv2.cvtColor(img, cv2.COLOR_RGB2YCrCb)\n",
    "        if conv == 'BGR2YCrCb':\n",
    "            return cv2.cvtColor(img, cv2.COLOR_BGR2YCrCb)\n",
    "        if conv == 'RGB2LUV':\n",
    "            return cv2.cvtColor(img, cv2.COLOR_RGB2LUV)\n",
    "        \n",
    "        \n",
    "    def get_bin_spatial(self):\n",
    "        color1 = cv2.resize(self.ch1, self.size).ravel()\n",
    "        color2 = cv2.resize(self.ch2, self.size).ravel()\n",
    "        color3 = cv2.resize(self.ch3, self.size).ravel()\n",
    "        return np.hstack((color1, color2, color3))\n",
    "                \n",
    "        \n",
    "    def get_color_hist(self):    #bins_range=(0, 256)\n",
    "        # Compute the histogram of the color channels separately\n",
    "        channel1_hist = np.histogram(self.ch1, bins=self.nbins)\n",
    "        channel2_hist = np.histogram(self.ch2, bins=self.nbins)\n",
    "        channel3_hist = np.histogram(self.ch3, bins=self.nbins)\n",
    "        # Concatenate the histograms into a single feature vector\n",
    "        hist_features = np.concatenate((channel1_hist[0], channel2_hist[0], channel3_hist[0]))\n",
    "        # Return the individual histograms, bin_centers and feature vector\n",
    "        return hist_features\n",
    "    \n",
    "    \n",
    "    def get_hog_features(self, image, vis=False, feature_vec=True):\n",
    "        if vis == True:\n",
    "            features, hog_image = hog(image, orientations=self.orient, \n",
    "                                      pixels_per_cell=(self.pix_per_cell, self.pix_per_cell),\n",
    "                                      cells_per_block=(self.cell_per_block, self.cell_per_block), \n",
    "                                      transform_sqrt=False, \n",
    "                                      visualise=vis, feature_vector=feature_vec)\n",
    "            return features, hog_image\n",
    "        else:   \n",
    "            features = hog(image, orientations=self.orient, \n",
    "                           pixels_per_cell=(self.pix_per_cell, self.pix_per_cell),\n",
    "                           cells_per_block=(self.cell_per_block, self.cell_per_block), \n",
    "                           transform_sqrt=False, \n",
    "                           visualise=vis, feature_vector=feature_vec)\n",
    "            return features \n",
    "        \n",
    "        \n",
    "    def get_all_hog_features(self, vis=False, feature_vec=True):\n",
    "        if vis == True:            \n",
    "            features_1, hog_image_1 = self.get_hog_features(self.ch1, vis, feature_vec)\n",
    "            features_2, hog_image_2 = self.get_hog_features(self.ch2, vis, feature_vec)\n",
    "            features_3, hog_image_3 = self.get_hog_features(self.ch3, vis, feature_vec)\n",
    "            return np.hstack((features_1, features_2, features_3)), np.array([hog_image_1, hog_image_2, hog_image_3])\n",
    "        else:      \n",
    "            features_1 = self.get_hog_features(self.ch1, vis, feature_vec)\n",
    "            features_2 = self.get_hog_features(self.ch2, vis, feature_vec)\n",
    "            features_3 = self.get_hog_features(self.ch3, vis, feature_vec)\n",
    "            return np.hstack((features_1, features_2, features_3))\n",
    "        \n",
    "        \n",
    "    def get_features_for_image(self, vis=False, feature_vec=True):\n",
    "        hog_features = self.get_all_hog_features(vis, feature_vec)\n",
    "        spatial_features = self.get_bin_spatial()\n",
    "        hist_features = self.get_color_hist()\n",
    "        \n",
    "        if self.X_scaler == None:\n",
    "            return np.hstack((spatial_features, hist_features, hog_features))\n",
    "        else:\n",
    "            return X_scaler.transform(np.hstack((spatial_features, hist_features, hog_features))) \n",
    "        \n",
    "def get_images():\n",
    "    car_images = glob.glob(\"./data/vehicles/**/*.png\", recursive=True)\n",
    "    non_car_images = glob.glob(\"./data/non-vehicles/**/*.png\", recursive=True)\n",
    "    return car_images, non_car_images\n",
    "\n",
    "def get_train_test_data(car, non_car, preprocessor):\n",
    "    car_features = []\n",
    "    notcar_features = []\n",
    "    print(\"Total Images: {}\".format(len(car) + len(non_car)))\n",
    "    i = 0\n",
    "    for c in car:\n",
    "        if (i % 1000 == 0):\n",
    "            print(i)\n",
    "        preprocessor.set_image(c)\n",
    "        car_features.append(preprocessor.get_features_for_image())\n",
    "        i=i+1\n",
    "    for nc in non_car:\n",
    "        if (i % 1000 == 0):\n",
    "            print(i)\n",
    "        preprocessor.set_image(nc)\n",
    "        notcar_features.append(preprocessor.get_features_for_image())\n",
    "        i=i+1\n",
    "\n",
    "    X = np.vstack((car_features, notcar_features)).astype(np.float64)     \n",
    "    X_scaler = StandardScaler().fit(X)\n",
    "    scaled_X = X_scaler.transform(X)\n",
    "    y = np.hstack((np.ones(len(car_features)), np.zeros(len(notcar_features))))\n",
    "\n",
    "    # Split up data into randomized training and test sets\n",
    "    rand_state = np.random.randint(0, 100)\n",
    "    X_train, X_test, y_train, y_test = train_test_split(\n",
    "        scaled_X, y, test_size=0.2, random_state=rand_state)\n",
    "    return X_train, X_test, y_train, y_test, X_scaler"
   ]
  },
  {
   "cell_type": "markdown",
   "metadata": {},
   "source": [
    "## Train Model"
   ]
  },
  {
   "cell_type": "code",
   "execution_count": 23,
   "metadata": {
    "collapsed": false
   },
   "outputs": [
    {
     "name": "stdout",
     "output_type": "stream",
     "text": [
      "Total Images: 17760\n",
      "0\n",
      "1000\n",
      "2000\n",
      "3000\n",
      "4000\n",
      "5000\n",
      "6000\n",
      "7000\n",
      "8000\n",
      "9000\n",
      "10000\n",
      "11000\n",
      "12000\n",
      "13000\n",
      "14000\n",
      "15000\n",
      "16000\n",
      "17000\n",
      "(17760, 7872)\n"
     ]
    }
   ],
   "source": [
    "car, noncar = get_images()\n",
    "p = PreProcessing()\n",
    "X_train, X_test, y_train, y_test, X_scaler = get_train_test_data(car, noncar, p)"
   ]
  },
  {
   "cell_type": "code",
   "execution_count": 25,
   "metadata": {
    "collapsed": false
   },
   "outputs": [
    {
     "name": "stdout",
     "output_type": "stream",
     "text": [
      "Test Accuracy of SVC =  0.9882\n"
     ]
    }
   ],
   "source": [
    "svc = LinearSVC()\n",
    "svc.fit(X_train, y_train)\n",
    "print('Test Accuracy of SVC = ', round(svc.score(X_test, y_test), 4))"
   ]
  }
 ],
 "metadata": {
  "anaconda-cloud": {},
  "kernelspec": {
   "display_name": "Python [conda env:CarND-Traffic-Sign-Classifier-Project]",
   "language": "python",
   "name": "conda-env-CarND-Traffic-Sign-Classifier-Project-py"
  },
  "language_info": {
   "codemirror_mode": {
    "name": "ipython",
    "version": 3
   },
   "file_extension": ".py",
   "mimetype": "text/x-python",
   "name": "python",
   "nbconvert_exporter": "python",
   "pygments_lexer": "ipython3",
   "version": "3.5.3"
  }
 },
 "nbformat": 4,
 "nbformat_minor": 1
}
